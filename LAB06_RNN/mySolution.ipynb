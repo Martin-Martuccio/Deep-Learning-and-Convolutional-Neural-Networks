{
 "cells": [
  {
   "cell_type": "markdown",
   "metadata": {},
   "source": [
    "# Deep sequence modeling"
   ]
  },
  {
   "cell_type": "code",
   "execution_count": 16,
   "metadata": {},
   "outputs": [],
   "source": [
    "from __future__ import print_function\n",
    "import tensorflow as tf\n",
    "import os, json, re\n",
    "import matplotlib.pyplot as plt\n",
    "import numpy as np\n",
    "from sklearn.model_selection import train_test_split\n",
    "from keras.preprocessing.text import Tokenizer\n",
    "from keras.preprocessing.sequence import pad_sequences\n",
    "import pandas as pd\n",
    "%matplotlib inline"
   ]
  },
  {
   "cell_type": "markdown",
   "metadata": {},
   "source": [
    "# Deal with sequential data\n",
    "\n",
    "The different units into which you can break down text (words, characters) are called tokens; then if you apply a tokenization scheme, you associate numeric vectors with the generated tokens.<br>\n",
    "These vectors, packed into sequence tensors, are fed into Deep Neural Network.<br>\n",
    "There are multiple ways to associate a vector with a token: we will see One-Hot Encoding and Token Embedding.<br>\n",
    "In this section we are going to deal with:\n",
    "* 3.1.1 One-Hot Encoding\n",
    "* 3.1.2 Word embedding"
   ]
  },
  {
   "cell_type": "markdown",
   "metadata": {},
   "source": [
    "## One-Hot Encoding"
   ]
  },
  {
   "cell_type": "code",
   "execution_count": 17,
   "metadata": {},
   "outputs": [
    {
     "name": "stdout",
     "output_type": "stream",
     "text": [
      "[[0. 0. 1. 1. 0. 0. 0. 0.]\n",
      " [0. 1. 0. 0. 1. 0. 0. 0.]\n",
      " [0. 0. 0. 0. 0. 1. 1. 0.]\n",
      " [0. 1. 0. 0. 0. 0. 0. 1.]]\n"
     ]
    }
   ],
   "source": [
    "# define 4 documents\n",
    "docs = ['Well done!','Good work','Great effort','nice work']\n",
    "\n",
    "# create the tokenizer\n",
    "tokenizer = Tokenizer()\n",
    "\n",
    "# fit the tokenizer on the documents\n",
    "tokenizer.fit_on_texts(docs)\n",
    "\n",
    "\n",
    "encoded_docs = tokenizer.texts_to_matrix(docs, mode='count')\n",
    "print(encoded_docs)\n",
    "\n",
    "# possible problems are related to the sparsity of the solution."
   ]
  },
  {
   "cell_type": "markdown",
   "metadata": {},
   "source": [
    "## 4.1.2 Word embedding\n",
    "\n",
    "There are two ways to obtain word embeddings:<br>\n",
    "* May be learned jointly with the network\n",
    "* May use pre-trained word vectors (Word2Vec, GloVe,..)\n",
    "\n",
    "\n",
    "Word embeddings maps human language into a geometric space; in a reasonable embedding space synonyms are embedded into similar word vectors and the geometric distance between any two word vectors reflects the semantic distance between the associated words (words meaning different things are embedded at points far away from each other, whereas related words are closer).<br>\n",
    "How good is a word-embedding space depends on the specific task.<br>\n",
    "It is reasonable to learn a new embedding space with every new task: with backpropagation and Keras it reduces to learn the weights of the Embedding layer."
   ]
  },
  {
   "cell_type": "markdown",
   "metadata": {},
   "source": [
    "### Learning Word Embeddings with the embedding layer\n",
    "#### Load imdb dataset\n",
    "This dataset contains movies reviews from IMDB."
   ]
  },
  {
   "cell_type": "code",
   "execution_count": 18,
   "metadata": {},
   "outputs": [],
   "source": [
    "max_features = 10000\n",
    "maxlen = 50\n",
    "\n",
    "imdb = tf.keras.datasets.imdb\n",
    "(x_train, y_train), (x_test, y_test) = imdb.load_data(num_words=max_features)\n",
    "\n",
    "x_train = tf.keras.preprocessing.sequence.pad_sequences(x_train, maxlen=maxlen)\n",
    "x_test = tf.keras.preprocessing.sequence.pad_sequences(x_test, maxlen=maxlen)"
   ]
  },
  {
   "cell_type": "code",
   "execution_count": 19,
   "metadata": {},
   "outputs": [
    {
     "name": "stdout",
     "output_type": "stream",
     "text": [
      "Vocab size :  88584\n",
      "50 most common words: \n",
      "\n",
      "[('the', 1), ('and', 2), ('a', 3), ('of', 4), ('to', 5), ('is', 6), ('br', 7), ('in', 8), ('it', 9), ('i', 10), ('this', 11), ('that', 12), ('was', 13), ('as', 14), ('for', 15), ('with', 16), ('movie', 17), ('but', 18), ('film', 19), ('on', 20), ('not', 21), ('you', 22), ('are', 23), ('his', 24), ('have', 25), ('he', 26), ('be', 27), ('one', 28), ('all', 29), ('at', 30), ('by', 31), ('an', 32), ('they', 33), ('who', 34), ('so', 35), ('from', 36), ('like', 37), ('her', 38), ('or', 39), ('just', 40), ('about', 41), (\"it's\", 42), ('out', 43), ('has', 44), ('if', 45), ('some', 46), ('there', 47), ('what', 48), ('good', 49), ('more', 50)]\n"
     ]
    }
   ],
   "source": [
    "word_to_index = imdb.get_word_index()\n",
    "\n",
    "vocab_size = len(word_to_index)\n",
    "print('Vocab size : ', vocab_size)\n",
    "\n",
    "# Get the frequency of each word in the dataset\n",
    "words_freq_list =words_freq_list = []\n",
    "\n",
    "for (k,v) in imdb.get_word_index().items():\n",
    "    words_freq_list.append((k,v))\n",
    "\n",
    "# Sort the list by frequency\n",
    "sorted_list = sorted(words_freq_list, key=lambda x: x[1])\n",
    "\n",
    "# Print the 50 most common words\n",
    "print(\"50 most common words: \\n\")\n",
    "print(sorted_list[0:50])"
   ]
  },
  {
   "cell_type": "code",
   "execution_count": 20,
   "metadata": {},
   "outputs": [
    {
     "data": {
      "text/plain": [
       "897"
      ]
     },
     "execution_count": 20,
     "metadata": {},
     "output_type": "execute_result"
    }
   ],
   "source": [
    "word_to_index['otherwise']"
   ]
  },
  {
   "cell_type": "markdown",
   "metadata": {},
   "source": [
    "# 4.2 Recurrent Neural Network\n",
    "Here https://colah.github.io/posts/2015-08-Understanding-LSTMs/ you can find a clear explanation about RNNs and LSTMs; the following is a summary of the main concepts.\n",
    "\n",
    "\n",
    "A major characteristic of some neural networks, as ConvNet, is that they have no memory: each input is processed independently, with no state kept in between inputs. Biological intelligence processes information incrementally while maintaining an internal model of what it’s processing, built from past information and constantly updated as new information comes in.<br>\n",
    "A recurrent neural network (RNN) adopts the same principle but in an extremely simplified version: it processes sequences by iterating through the sequence elements and maintaining a state containing information relative to what it has seen so far.\n",
    "\n",
    "\n",
    "Each input $x_{i=t-1, t, t+1, ..}$ is combined with the internal state and then is applied an activation function (e.g. $tanh$); then the output is computed $h_{i=t-1, t, t+1, ..}$ and the internal state is updated.<br>\n",
    "In many cases, you just need the last output ($h_{i=last t}$ at the end of the loop), because it already contains information\n",
    "about the entire sequence.\n",
    "\n"
   ]
  },
  {
   "cell_type": "code",
   "execution_count": 21,
   "metadata": {},
   "outputs": [],
   "source": [
    "# create different models for out binary classification task\n",
    "simple_lstm_model = tf.keras.Sequential()\n",
    "simple_lstm_model.add(tf.keras.layers.Embedding(max_features, 16))\n",
    "simple_lstm_model.add(tf.keras.layers.SimpleRNN(16))\n",
    "simple_lstm_model.add(tf.keras.layers.Dense(16, activation='relu'))\n",
    "simple_lstm_model.add(tf.keras.layers.Dropout(0.3))\n",
    "simple_lstm_model.add(tf.keras.layers.Dense(32, activation='relu'))\n",
    "simple_lstm_model.add(tf.keras.layers.Dropout(0.4))\n",
    "simple_lstm_model.add(tf.keras.layers.Dense(16, activation='relu'))\n",
    "simple_lstm_model.add(tf.keras.layers.Dropout(0.3))\n",
    "simple_lstm_model.add(tf.keras.layers.Dense(4, activation='relu'))\n",
    "simple_lstm_model.add(tf.keras.layers.Dropout(0.6))\n",
    "simple_lstm_model.add(tf.keras.layers.Dense(1, activation='sigmoid'))\n",
    "\n",
    "\n",
    "simple_lstm_model.compile(optimizer='rmsprop', loss=tf.keras.losses.BinaryCrossentropy(from_logits=True), metrics=['acc'])"
   ]
  },
  {
   "cell_type": "code",
   "execution_count": 22,
   "metadata": {},
   "outputs": [
    {
     "name": "stdout",
     "output_type": "stream",
     "text": [
      "Epoch 1/10\n"
     ]
    },
    {
     "name": "stderr",
     "output_type": "stream",
     "text": [
      "c:\\Users\\ACER\\AppData\\Local\\Programs\\Python\\Python311\\Lib\\site-packages\\keras\\src\\backend.py:5805: UserWarning: \"`binary_crossentropy` received `from_logits=True`, but the `output` argument was produced by a Sigmoid activation and thus does not represent logits. Was this intended?\n",
      "  output, from_logits = _get_logits(\n"
     ]
    },
    {
     "name": "stdout",
     "output_type": "stream",
     "text": [
      "157/157 [==============================] - 3s 11ms/step - loss: 0.6935 - acc: 0.4992 - val_loss: 0.6933 - val_acc: 0.4950\n",
      "Epoch 2/10\n",
      "157/157 [==============================] - 1s 8ms/step - loss: 0.6930 - acc: 0.5059 - val_loss: 0.6925 - val_acc: 0.5334\n",
      "Epoch 3/10\n",
      "157/157 [==============================] - 1s 8ms/step - loss: 0.6866 - acc: 0.5434 - val_loss: 0.6740 - val_acc: 0.6836\n",
      "Epoch 4/10\n",
      "157/157 [==============================] - 1s 8ms/step - loss: 0.6427 - acc: 0.6526 - val_loss: 0.5944 - val_acc: 0.7528\n",
      "Epoch 5/10\n",
      "157/157 [==============================] - 1s 8ms/step - loss: 0.6016 - acc: 0.7036 - val_loss: 0.5411 - val_acc: 0.7730\n",
      "Epoch 6/10\n",
      "157/157 [==============================] - 1s 8ms/step - loss: 0.5674 - acc: 0.7309 - val_loss: 0.5362 - val_acc: 0.7500\n",
      "Epoch 7/10\n",
      "157/157 [==============================] - 1s 8ms/step - loss: 0.5339 - acc: 0.7560 - val_loss: 0.5545 - val_acc: 0.7830\n",
      "Epoch 8/10\n",
      "157/157 [==============================] - 1s 8ms/step - loss: 0.4998 - acc: 0.7790 - val_loss: 0.5314 - val_acc: 0.7612\n",
      "Epoch 9/10\n",
      "157/157 [==============================] - 1s 8ms/step - loss: 0.4709 - acc: 0.7926 - val_loss: 0.6056 - val_acc: 0.7646\n",
      "Epoch 10/10\n",
      "157/157 [==============================] - 1s 8ms/step - loss: 0.4549 - acc: 0.8037 - val_loss: 0.7395 - val_acc: 0.7488\n"
     ]
    }
   ],
   "source": [
    "# Train the model\n",
    "history = simple_lstm_model.fit(x_train, y_train, epochs=10, batch_size=128, validation_split=0.2)"
   ]
  },
  {
   "cell_type": "code",
   "execution_count": 23,
   "metadata": {},
   "outputs": [],
   "source": [
    "def plot_history(history):\n",
    "    # Plot training & validation accuracy values\n",
    "    plt.plot(history.history['acc'])\n",
    "    plt.plot(history.history['val_acc'])\n",
    "    plt.title('Model accuracy')\n",
    "    plt.ylabel('Accuracy')\n",
    "    plt.xlabel('Epoch')\n",
    "    plt.legend(['Train', 'Val'], loc='upper left')\n",
    "    plt.show()\n",
    "\n",
    "    # Plot training & validation loss values\n",
    "    plt.plot(history.history['loss'])\n",
    "    plt.plot(history.history['val_loss'])\n",
    "    plt.title('Model loss')\n",
    "    plt.ylabel('Loss')\n",
    "    plt.xlabel('Epoch')\n",
    "    plt.legend(['Train', 'Val'], loc='upper left')\n",
    "    plt.show()"
   ]
  },
  {
   "cell_type": "code",
   "execution_count": 24,
   "metadata": {},
   "outputs": [
    {
     "data": {
      "image/png": "[encoded data removed]",
      "text/plain": [
       "<Figure size 640x480 with 1 Axes>"
      ]
     },
     "metadata": {},
     "output_type": "display_data"
    },
    {
     "data": {
      "image/png": "[encoded data removed]",
      "text/plain": [
       "<Figure size 640x480 with 1 Axes>"
      ]
     },
     "metadata": {},
     "output_type": "display_data"
    }
   ],
   "source": [
    "plot_history(history)"
   ]
  },
  {
   "cell_type": "code",
   "execution_count": 25,
   "metadata": {},
   "outputs": [
    {
     "name": "stdout",
     "output_type": "stream",
     "text": [
      "782/782 [==============================] - 2s 2ms/step - loss: 0.7179 - acc: 0.7642\n",
      "Test accuracy: 0.764, Test loss: 0.718\n"
     ]
    }
   ],
   "source": [
    "test_loss, test_acc = simple_lstm_model.evaluate(x_test, y_test, verbose=1)\n",
    "print('Test accuracy: %.3f, Test loss: %.3f' % (test_acc,test_loss))"
   ]
  },
  {
   "cell_type": "markdown",
   "metadata": {},
   "source": [
    "##### Try to build a new model where you stack several recurrent layers."
   ]
  },
  {
   "cell_type": "code",
   "execution_count": 47,
   "metadata": {},
   "outputs": [],
   "source": [
    "# Build the model. It should be made by at least:\n",
    "# 1 Embedding layer\n",
    "# More than 1 SimpleRNN layer, do not forget to put the return_sequences parameter to True \n",
    "# 1 Dense layer\n",
    "lstm_model = tf.keras.Sequential()\n",
    "lstm_model.add(tf.keras.layers.Embedding(max_features, 16))\n",
    "lstm_model.add(tf.keras.layers.SimpleRNN(16, return_sequences=True))\n",
    "lstm_model.add(tf.keras.layers.SimpleRNN(16, return_sequences=True))\n",
    "lstm_model.add(tf.keras.layers.SimpleRNN(16, return_sequences=False)) # return_sequences=False for mismatch in dimensions\n",
    "lstm_model.add(tf.keras.layers.Dense(16, activation='relu'))\n",
    "lstm_model.add(tf.keras.layers.Dropout(0.6))\n",
    "lstm_model.add(tf.keras.layers.Dense(2, activation='softmax'))"
   ]
  },
  {
   "cell_type": "code",
   "execution_count": 48,
   "metadata": {},
   "outputs": [
    {
     "name": "stdout",
     "output_type": "stream",
     "text": [
      "Model: \"sequential_6\"\n",
      "_________________________________________________________________\n",
      " Layer (type)                Output Shape              Param #   \n",
      "=================================================================\n",
      " embedding_6 (Embedding)     (None, None, 16)          160000    \n",
      "                                                                 \n",
      " simple_rnn_16 (SimpleRNN)   (None, None, 16)          528       \n",
      "                                                                 \n",
      " simple_rnn_17 (SimpleRNN)   (None, None, 16)          528       \n",
      "                                                                 \n",
      " simple_rnn_18 (SimpleRNN)   (None, 16)                528       \n",
      "                                                                 \n",
      " dense_13 (Dense)            (None, 16)                272       \n",
      "                                                                 \n",
      " dropout_8 (Dropout)         (None, 16)                0         \n",
      "                                                                 \n",
      " dense_14 (Dense)            (None, 2)                 34        \n",
      "                                                                 \n",
      "=================================================================\n",
      "Total params: 161890 (632.38 KB)\n",
      "Trainable params: 161890 (632.38 KB)\n",
      "Non-trainable params: 0 (0.00 Byte)\n",
      "_________________________________________________________________\n"
     ]
    }
   ],
   "source": [
    "lstm_model.summary()"
   ]
  },
  {
   "cell_type": "code",
   "execution_count": 49,
   "metadata": {},
   "outputs": [],
   "source": [
    "#compile the model\n",
    "lstm_model.compile(optimizer='rmsprop', loss=tf.keras.losses.BinaryCrossentropy(from_logits=True), metrics=['acc'])"
   ]
  },
  {
   "cell_type": "code",
   "execution_count": 50,
   "metadata": {},
   "outputs": [
    {
     "name": "stdout",
     "output_type": "stream",
     "text": [
      "Epoch 1/10\n"
     ]
    },
    {
     "name": "stderr",
     "output_type": "stream",
     "text": [
      "c:\\Users\\ACER\\AppData\\Local\\Programs\\Python\\Python311\\Lib\\site-packages\\keras\\src\\backend.py:5805: UserWarning: \"`binary_crossentropy` received `from_logits=True`, but the `output` argument was produced by a Sigmoid activation and thus does not represent logits. Was this intended?\n",
      "  output, from_logits = _get_logits(\n"
     ]
    },
    {
     "name": "stdout",
     "output_type": "stream",
     "text": [
      "157/157 [==============================] - 5s 20ms/step - loss: 0.6959 - acc: 0.5075 - val_loss: 0.6911 - val_acc: 0.5240\n",
      "Epoch 2/10\n",
      "157/157 [==============================] - 3s 17ms/step - loss: 0.6845 - acc: 0.5515 - val_loss: 0.6647 - val_acc: 0.5936\n",
      "Epoch 3/10\n",
      "157/157 [==============================] - 3s 17ms/step - loss: 0.5636 - acc: 0.7237 - val_loss: 0.4652 - val_acc: 0.7908\n",
      "Epoch 4/10\n",
      "157/157 [==============================] - 3s 16ms/step - loss: 0.4294 - acc: 0.8137 - val_loss: 0.4731 - val_acc: 0.7752\n",
      "Epoch 5/10\n",
      "157/157 [==============================] - 3s 17ms/step - loss: 0.3546 - acc: 0.8564 - val_loss: 0.4539 - val_acc: 0.7900\n",
      "Epoch 6/10\n",
      "157/157 [==============================] - 3s 17ms/step - loss: 0.2879 - acc: 0.8870 - val_loss: 0.5814 - val_acc: 0.7712\n",
      "Epoch 7/10\n",
      "157/157 [==============================] - 3s 17ms/step - loss: 0.2281 - acc: 0.9277 - val_loss: 0.6045 - val_acc: 0.7564\n",
      "Epoch 8/10\n",
      "157/157 [==============================] - 3s 18ms/step - loss: 0.1665 - acc: 0.9525 - val_loss: 0.8191 - val_acc: 0.7782\n",
      "Epoch 9/10\n",
      "157/157 [==============================] - 3s 17ms/step - loss: 0.1140 - acc: 0.9699 - val_loss: 0.9557 - val_acc: 0.7682\n",
      "Epoch 10/10\n",
      "157/157 [==============================] - 3s 18ms/step - loss: 0.0774 - acc: 0.9814 - val_loss: 1.1978 - val_acc: 0.7522\n"
     ]
    }
   ],
   "source": [
    "from keras.utils import to_categorical\n",
    "y_train_encoded = to_categorical(y_train, num_classes=2)\n",
    "history = lstm_model.fit(x_train, y_train_encoded, epochs=10, batch_size=128, validation_split=0.2)"
   ]
  },
  {
   "cell_type": "code",
   "execution_count": 51,
   "metadata": {},
   "outputs": [],
   "source": [
    "class TransformerBlock(tf.keras.layers.Layer):\n",
    "    def __init__(self, embed_dim, num_heads, ff_dim, dropout_rate=0.1):\n",
    "        super(TransformerBlock, self).__init__()\n",
    "        self.att = tf.keras.layers.MultiHeadAttention(num_heads=num_heads, key_dim=embed_dim)\n",
    "        self.ffn = tf.keras.Sequential(\n",
    "            [tf.keras.layers.Dense(ff_dim, activation=\"relu\"), tf.keras.layers.Dense(embed_dim),]\n",
    "        )\n",
    "        self.layernorm1 = tf.keras.layers.LayerNormalization(epsilon=1e-6)\n",
    "        self.layernorm2 = tf.keras.layers.LayerNormalization(epsilon=1e-6)\n",
    "        self.dropout1 = tf.keras.layers.Dropout(dropout_rate)\n",
    "        self.dropout2 = tf.keras.layers.Dropout(dropout_rate)\n",
    "\n",
    "    def call(self, inputs, training):\n",
    "        attn_output = self.att(inputs, inputs)\n",
    "        attn_output = self.dropout1(attn_output, training=training)\n",
    "        out1 = self.layernorm1(inputs + attn_output)\n",
    "        ffn_output = self.ffn(out1)\n",
    "        ffn_output = self.dropout2(ffn_output, training=training)\n",
    "        return self.layernorm2(out1 + ffn_output)"
   ]
  },
  {
   "cell_type": "code",
   "execution_count": 52,
   "metadata": {},
   "outputs": [],
   "source": [
    "class TokenAndPositionEmbedding(tf.keras.layers.Layer):\n",
    "    def __init__(self, maxlen, vocab_size, embed_dim):\n",
    "        super(TokenAndPositionEmbedding, self).__init__()\n",
    "        self.token_emb = tf.keras.layers.Embedding(input_dim=vocab_size, output_dim=embed_dim)\n",
    "        self.pos_emb = tf.keras.layers.Embedding(input_dim=maxlen, output_dim=embed_dim)\n",
    "\n",
    "    def call(self, x):\n",
    "        maxlen = tf.shape(x)[-1]\n",
    "        positions = tf.range(start=0, limit=maxlen, delta=1)\n",
    "        positions = self.pos_emb(positions)\n",
    "        x = self.token_emb(x)\n",
    "        return x + positions"
   ]
  },
  {
   "cell_type": "code",
   "execution_count": 55,
   "metadata": {},
   "outputs": [],
   "source": [
    "embed_dim = 32  # Embedding size for each token\n",
    "num_heads = 2  # Number of attention heads\n",
    "ff_dim = 32  # Hidden layer size in feed forward network inside transformer\n",
    "\n",
    "# Build the model called transformer_model. It should be made by at least:\n",
    "# 1 TokenAndPositionEmbedding layer with maxlen, vocab_size and embed_dim as arguments (we created them above!)\n",
    "# 1 TransformerBlock layer with embed_dim, num_heads and ff_dim as arguments\n",
    "# 1 GlobalAveragePooling1D layer\n",
    "# 2 Dense layers \n",
    "tranformer_model = tf.keras.Sequential()\n",
    "tranformer_model.add(TokenAndPositionEmbedding(maxlen, vocab_size, embed_dim))\n",
    "tranformer_model.add(TransformerBlock(embed_dim, num_heads, ff_dim))\n",
    "tranformer_model.add(tf.keras.layers.GlobalAveragePooling1D())  \n",
    "tranformer_model.add(tf.keras.layers.Dropout(0.4))\n",
    "tranformer_model.add(tf.keras.layers.Dense(20, activation='relu'))\n",
    "tranformer_model.add(tf.keras.layers.Dropout(0.4))\n",
    "tranformer_model.add(tf.keras.layers.Dense(1, activation='sigmoid'))\n",
    "\n",
    "# Compile the model\n",
    "tranformer_model.compile(optimizer='adam', loss=tf.keras.losses.BinaryCrossentropy(from_logits=True), metrics=['acc'])\n",
    "\n"
   ]
  },
  {
   "cell_type": "code",
   "execution_count": 56,
   "metadata": {},
   "outputs": [
    {
     "name": "stdout",
     "output_type": "stream",
     "text": [
      "Epoch 1/10\n",
      "157/157 [==============================] - 18s 96ms/step - loss: 0.5808 - acc: 0.6716 - val_loss: 0.4287 - val_acc: 0.8000\n",
      "Epoch 2/10\n",
      "157/157 [==============================] - 14s 89ms/step - loss: 0.3790 - acc: 0.8429 - val_loss: 0.4278 - val_acc: 0.8000\n",
      "Epoch 3/10\n",
      "157/157 [==============================] - 15s 93ms/step - loss: 0.3123 - acc: 0.8813 - val_loss: 0.4647 - val_acc: 0.7932\n",
      "Epoch 4/10\n",
      "157/157 [==============================] - 14s 87ms/step - loss: 0.2686 - acc: 0.8962 - val_loss: 0.5230 - val_acc: 0.7790\n",
      "Epoch 5/10\n",
      "157/157 [==============================] - 15s 94ms/step - loss: 0.2396 - acc: 0.9122 - val_loss: 0.4972 - val_acc: 0.7838\n",
      "Epoch 6/10\n",
      "157/157 [==============================] - 17s 107ms/step - loss: 0.2140 - acc: 0.9172 - val_loss: 0.6500 - val_acc: 0.7706\n",
      "Epoch 7/10\n",
      "157/157 [==============================] - 15s 94ms/step - loss: 0.1877 - acc: 0.9297 - val_loss: 0.6712 - val_acc: 0.7778\n",
      "Epoch 8/10\n",
      "157/157 [==============================] - 15s 94ms/step - loss: 0.1749 - acc: 0.9314 - val_loss: 0.8453 - val_acc: 0.7678\n",
      "Epoch 9/10\n",
      "157/157 [==============================] - 14s 90ms/step - loss: 0.1542 - acc: 0.9378 - val_loss: 0.8651 - val_acc: 0.7740\n",
      "Epoch 10/10\n",
      "157/157 [==============================] - 14s 89ms/step - loss: 0.1522 - acc: 0.9352 - val_loss: 1.0172 - val_acc: 0.7682\n"
     ]
    }
   ],
   "source": [
    "# Train the model\n",
    "history = tranformer_model.fit(x_train, y_train, epochs=10, batch_size=128, validation_split=0.2)"
   ]
  },
  {
   "cell_type": "code",
   "execution_count": null,
   "metadata": {},
   "outputs": [
    {
     "data": {
      "image/png": "[encoded data removed]",
      "text/plain": [
       "<Figure size 640x480 with 1 Axes>"
      ]
     },
     "metadata": {},
     "output_type": "display_data"
    },
    {
     "data": {
      "image/png": "[encoded data removed]",
      "text/plain": [
       "<Figure size 640x480 with 1 Axes>"
      ]
     },
     "metadata": {},
     "output_type": "display_data"
    }
   ],
   "source": [
    "plot_history(history)"
   ]
  },
  {
   "cell_type": "code",
   "execution_count": null,
   "metadata": {},
   "outputs": [],
   "source": [
    "test_loss, test_acc = tranformer_model.evaluate(x_test, y_test, verbose=1)\n",
    "print('Test accuracy: %.3f, Test loss: %.3f' % (test_acc,test_loss))"
   ]
  },
  {
   "cell_type": "markdown",
   "metadata": {},
   "source": [
    "# 4.3 Transformers\n",
    "<img src=\"https://machinelearningmastery.com/wp-content/uploads/2021/08/attention_research_1-768x1082.png\" width=\"250px\" align=\"right\"><br>\n",
    "\n",
    "One main drawback about RNNs is their capacity to remember long-term dependencies. To alleviate this problem different models have been proposed, like Long Short Term Memories (LSTM) and Transformers.<br>\n",
    "*Transformers* is one of the best available model nowadays to deal with different kind of data (text, images..) and obtain state of the art results.\n",
    "\n",
    "The key component in the Transformer architecture is the Attention layer, that helps the encoder look at other words in the input sentence as it encodes a specific word. The attention mechanism, in theory, and given enough compute resources, have a wider window to reference from, therefore being capable of using the **entire context** of the text.\n",
    "\n",
    "\n"
   ]
  },
  {
   "cell_type": "code",
   "execution_count": null,
   "metadata": {},
   "outputs": [],
   "source": [
    "class TransformerBlock(tf.keras.layers.Layer):\n",
    "    def __init__(self, embed_dim, num_heads, ff_dim, dropout_rate=0.1):\n",
    "        super(TransformerBlock, self).__init__()\n",
    "        self.att = tf.keras.layers.MultiHeadAttention(num_heads=num_heads, key_dim=embed_dim)\n",
    "        self.ffn = tf.keras.Sequential(\n",
    "            [tf.keras.layers.Dense(ff_dim, activation=\"relu\"), tf.keras.layers.Dense(embed_dim),]\n",
    "        )\n",
    "        self.layernorm1 = tf.keras.layers.LayerNormalization(epsilon=1e-6)\n",
    "        self.layernorm2 = tf.keras.layers.LayerNormalization(epsilon=1e-6)\n",
    "        self.dropout1 = tf.keras.layers.Dropout(dropout_rate)\n",
    "        self.dropout2 = tf.keras.layers.Dropout(dropout_rate)\n",
    "\n",
    "    def call(self, inputs, training):\n",
    "        attn_output = self.att(inputs, inputs)\n",
    "        attn_output = self.dropout1(attn_output, training=training)\n",
    "        out1 = self.layernorm1(inputs + attn_output)\n",
    "        ffn_output = self.ffn(out1)\n",
    "        ffn_output = self.dropout2(ffn_output, training=training)\n",
    "        return self.layernorm2(out1 + ffn_output)"
   ]
  },
  {
   "cell_type": "code",
   "execution_count": null,
   "metadata": {},
   "outputs": [],
   "source": [
    "class TokenAndPositionEmbedding(tf.keras.layers.Layer):\n",
    "    def __init__(self, maxlen, vocab_size, embed_dim):\n",
    "        super(TokenAndPositionEmbedding, self).__init__()\n",
    "        self.token_emb = tf.keras.layers.Embedding(input_dim=vocab_size, output_dim=embed_dim)\n",
    "        self.pos_emb = tf.keras.layers.Embedding(input_dim=maxlen, output_dim=embed_dim)\n",
    "\n",
    "    def call(self, x):\n",
    "        maxlen = tf.shape(x)[-1]\n",
    "        positions = tf.range(start=0, limit=maxlen, delta=1)\n",
    "        positions = self.pos_emb(positions)\n",
    "        x = self.token_emb(x)\n",
    "        return x + positions"
   ]
  },
  {
   "cell_type": "code",
   "execution_count": null,
   "metadata": {},
   "outputs": [],
   "source": [
    "embed_dim = 32  # Embedding size for each token\n",
    "num_heads = 2  # Number of attention heads\n",
    "ff_dim = 32  # Hidden layer size in feed forward network inside transformer\n",
    "\n",
    "# Build the model called transformer_model. It should be made by at least:\n",
    "# 1 TokenAndPositionEmbedding layer with maxlen, vocab_size and embed_dim as arguments (we created them above!)\n",
    "# 1 TransformerBlock layer with embed_dim, num_heads and ff_dim as arguments\n",
    "# 1 GlobalAveragePooling1D layer\n",
    "# 2 Dense layers \n",
    "\n",
    "tranformer_model = tf.keras.Sequential()\n",
    "tranformer_model.add(TokenAndPositionEmbedding(maxlen, vocab_size, embed_dim))\n",
    "tranformer_model.add(TransformerBlock(embed_dim, num_heads, ff_dim))\n",
    "tranformer_model.add(tf.keras.layers.GlobalAveragePooling1D())\n",
    "tranformer_model.add(tf.keras.layers.Dropout(0.2))\n",
    "tranformer_model.add(tf.keras.layers.Dense(20, activation='relu'))\n",
    "tranformer_model.add(tf.keras.layers.Dropout(0.4))\n",
    "tranformer_model.add(tf.keras.layers.Dense(1, activation='sigmoid'))"
   ]
  },
  {
   "cell_type": "code",
   "execution_count": null,
   "metadata": {},
   "outputs": [],
   "source": [
    "# Compile the model\n",
    "tranformer_model.compile(optimizer='adam', loss=tf.keras.losses.BinaryCrossentropy(from_logits=True), metrics=['acc'])"
   ]
  },
  {
   "cell_type": "code",
   "execution_count": null,
   "metadata": {},
   "outputs": [],
   "source": [
    "# Train the model\n",
    "history = tranformer_model.fit(x_train, y_train, epochs=10, batch_size=128, validation_split=0.2)"
   ]
  },
  {
   "cell_type": "code",
   "execution_count": null,
   "metadata": {},
   "outputs": [],
   "source": [
    "plot_history(history)"
   ]
  },
  {
   "cell_type": "code",
   "execution_count": null,
   "metadata": {},
   "outputs": [],
   "source": [
    "# Evaluate the model\n",
    "test_loss, test_acc = tranformer_model.evaluate(x_test, y_test, verbose=1)\n",
    "print('Test accuracy: %.3f, Test loss: %.3f' % (test_acc,test_loss))"
   ]
  },
  {
   "cell_type": "markdown",
   "metadata": {},
   "source": [
    "# Reuters newswire classification dataset\n",
    "\n",
    "The reuters newswire classification dataset is a dataset of 11,228 newswires from Reuters, labeled over 46 topics. More information about the dataset and how to use it can be found here:\n",
    "https://keras.io/api/datasets/reuters/\n",
    "\n",
    "Try to build a new model dealing with this new dataset.\n",
    "Try to use both the RNN and the Transfomrers approach, and select the best of them. What do you expect will be the best? Be carefull that this domain shift will imply some changes in your code as it is not a binary classification problem anymore!"
   ]
  },
  {
   "cell_type": "code",
   "execution_count": null,
   "metadata": {},
   "outputs": [],
   "source": [
    "imdb = tf.keras.datasets.imdb\n",
    "(x_train, y_train), (x_test, y_test) = tf.keras.datasets.reuters.load_data(num_words=max_features)\n",
    "\n",
    "num_classes = np.max(y_train) + 1\n",
    "print(num_classes)\n",
    "\n",
    "x_train = tf.keras.preprocessing.sequence.pad_sequences(x_train, maxlen=maxlen)\n",
    "x_test = tf.keras.preprocessing.sequence.pad_sequences(x_test, maxlen=maxlen)"
   ]
  },
  {
   "cell_type": "code",
   "execution_count": null,
   "metadata": {},
   "outputs": [],
   "source": [
    "# Building a model using SparseCategoricalCrossentropy\n",
    "\n",
    "model = tf.keras.Sequential()\n",
    "model.add(tf.keras.layers.Embedding(max_features, 16))\n",
    "model.add(tf.keras.layers.SimpleRNN(16))\n",
    "model.add(tf.keras.layers.Dense(16, activation='relu'))\n",
    "model.add(tf.keras.layers.Dropout(0.3))\n",
    "model.add(tf.keras.layers.Dense(32, activation='relu'))\n",
    "model.add(tf.keras.layers.Dropout(0.4))\n",
    "model.add(tf.keras.layers.Dense(16, activation='relu'))\n",
    "model.add(tf.keras.layers.Dropout(0.3))\n",
    "model.add(tf.keras.layers.Dense(num_classes, activation='softmax'))"
   ]
  },
  {
   "cell_type": "code",
   "execution_count": null,
   "metadata": {},
   "outputs": [],
   "source": [
    "model.compile(optimizer='rmsprop', loss=tf.keras.losses.SparseCategoricalCrossentropy(), metrics=['acc'])"
   ]
  },
  {
   "cell_type": "code",
   "execution_count": null,
   "metadata": {},
   "outputs": [],
   "source": [
    "# Train the model\n",
    "history = model.fit(x_train, y_train, epochs=10, batch_size=128, validation_split=0.2)"
   ]
  },
  {
   "cell_type": "code",
   "execution_count": null,
   "metadata": {},
   "outputs": [],
   "source": [
    "plot_history(history)"
   ]
  },
  {
   "cell_type": "code",
   "execution_count": null,
   "metadata": {},
   "outputs": [],
   "source": [
    "# Evaluate the model\n",
    "test_loss, test_acc = model.evaluate(x_test, y_test, verbose=1)\n",
    "print('Test accuracy: %.3f, Test loss: %.3f' % (test_acc,test_loss))"
   ]
  }
 ],
 "metadata": {
  "kernelspec": {
   "display_name": "Python 3",
   "language": "python",
   "name": "python3"
  },
  "language_info": {
   "codemirror_mode": {
    "name": "ipython",
    "version": 3
   },
   "file_extension": ".py",
   "mimetype": "text/x-python",
   "name": "python",
   "nbconvert_exporter": "python",
   "pygments_lexer": "ipython3",
   "version": "3.11.1"
  }
 },
 "nbformat": 4,
 "nbformat_minor": 2
}
